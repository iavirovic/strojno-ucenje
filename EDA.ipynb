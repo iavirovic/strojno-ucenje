{
 "cells": [
  {
   "cell_type": "code",
   "execution_count": 1,
   "id": "47a6974a",
   "metadata": {},
   "outputs": [],
   "source": [
    "import numpy as np\n",
    "import pandas as pd\n",
    "import matplotlib.pyplot as plt\n",
    "%matplotlib inline\n",
    "import seaborn as sns\n",
    "import datetime\n",
    "import missingno as msno"
   ]
  },
  {
   "cell_type": "code",
   "execution_count": 2,
   "id": "bd81cdf5",
   "metadata": {},
   "outputs": [],
   "source": [
    "df = pd.read_csv('./input/wind_dataset.csv')"
   ]
  },
  {
   "cell_type": "code",
   "execution_count": 3,
   "id": "99f34cd8",
   "metadata": {},
   "outputs": [],
   "source": [
    "df['DATE']=pd.to_datetime(df['DATE'])"
   ]
  },
  {
   "cell_type": "code",
   "execution_count": 4,
   "id": "a9aa02ae",
   "metadata": {},
   "outputs": [
    {
     "data": {
      "text/plain": [
       "(6574, 9)"
      ]
     },
     "execution_count": 4,
     "metadata": {},
     "output_type": "execute_result"
    }
   ],
   "source": [
    "df.shape"
   ]
  },
  {
   "cell_type": "code",
   "execution_count": 5,
   "id": "58e048a6",
   "metadata": {},
   "outputs": [
    {
     "data": {
      "text/html": [
       "<div>\n",
       "<style scoped>\n",
       "    .dataframe tbody tr th:only-of-type {\n",
       "        vertical-align: middle;\n",
       "    }\n",
       "\n",
       "    .dataframe tbody tr th {\n",
       "        vertical-align: top;\n",
       "    }\n",
       "\n",
       "    .dataframe thead th {\n",
       "        text-align: right;\n",
       "    }\n",
       "</style>\n",
       "<table border=\"1\" class=\"dataframe\">\n",
       "  <thead>\n",
       "    <tr style=\"text-align: right;\">\n",
       "      <th></th>\n",
       "      <th>DATE</th>\n",
       "      <th>WIND</th>\n",
       "      <th>IND</th>\n",
       "      <th>RAIN</th>\n",
       "      <th>IND.1</th>\n",
       "      <th>T.MAX</th>\n",
       "      <th>IND.2</th>\n",
       "      <th>T.MIN</th>\n",
       "      <th>T.MIN.G</th>\n",
       "    </tr>\n",
       "  </thead>\n",
       "  <tbody>\n",
       "    <tr>\n",
       "      <th>0</th>\n",
       "      <td>1961-01-01</td>\n",
       "      <td>13.67</td>\n",
       "      <td>0</td>\n",
       "      <td>0.2</td>\n",
       "      <td>0.0</td>\n",
       "      <td>9.5</td>\n",
       "      <td>0.0</td>\n",
       "      <td>3.7</td>\n",
       "      <td>-1.0</td>\n",
       "    </tr>\n",
       "    <tr>\n",
       "      <th>1</th>\n",
       "      <td>1961-01-02</td>\n",
       "      <td>11.50</td>\n",
       "      <td>0</td>\n",
       "      <td>5.1</td>\n",
       "      <td>0.0</td>\n",
       "      <td>7.2</td>\n",
       "      <td>0.0</td>\n",
       "      <td>4.2</td>\n",
       "      <td>1.1</td>\n",
       "    </tr>\n",
       "    <tr>\n",
       "      <th>2</th>\n",
       "      <td>1961-01-03</td>\n",
       "      <td>11.25</td>\n",
       "      <td>0</td>\n",
       "      <td>0.4</td>\n",
       "      <td>0.0</td>\n",
       "      <td>5.5</td>\n",
       "      <td>0.0</td>\n",
       "      <td>0.5</td>\n",
       "      <td>-0.5</td>\n",
       "    </tr>\n",
       "    <tr>\n",
       "      <th>3</th>\n",
       "      <td>1961-01-04</td>\n",
       "      <td>8.63</td>\n",
       "      <td>0</td>\n",
       "      <td>0.2</td>\n",
       "      <td>0.0</td>\n",
       "      <td>5.6</td>\n",
       "      <td>0.0</td>\n",
       "      <td>0.4</td>\n",
       "      <td>-3.2</td>\n",
       "    </tr>\n",
       "    <tr>\n",
       "      <th>4</th>\n",
       "      <td>1961-01-05</td>\n",
       "      <td>11.92</td>\n",
       "      <td>0</td>\n",
       "      <td>10.4</td>\n",
       "      <td>0.0</td>\n",
       "      <td>7.2</td>\n",
       "      <td>1.0</td>\n",
       "      <td>-1.5</td>\n",
       "      <td>-7.5</td>\n",
       "    </tr>\n",
       "  </tbody>\n",
       "</table>\n",
       "</div>"
      ],
      "text/plain": [
       "        DATE   WIND  IND  RAIN  IND.1  T.MAX  IND.2  T.MIN  T.MIN.G\n",
       "0 1961-01-01  13.67    0   0.2    0.0    9.5    0.0    3.7     -1.0\n",
       "1 1961-01-02  11.50    0   5.1    0.0    7.2    0.0    4.2      1.1\n",
       "2 1961-01-03  11.25    0   0.4    0.0    5.5    0.0    0.5     -0.5\n",
       "3 1961-01-04   8.63    0   0.2    0.0    5.6    0.0    0.4     -3.2\n",
       "4 1961-01-05  11.92    0  10.4    0.0    7.2    1.0   -1.5     -7.5"
      ]
     },
     "execution_count": 5,
     "metadata": {},
     "output_type": "execute_result"
    }
   ],
   "source": [
    "df.head()"
   ]
  },
  {
   "cell_type": "code",
   "execution_count": 6,
   "id": "c7b98feb",
   "metadata": {},
   "outputs": [
    {
     "data": {
      "text/html": [
       "<div>\n",
       "<style scoped>\n",
       "    .dataframe tbody tr th:only-of-type {\n",
       "        vertical-align: middle;\n",
       "    }\n",
       "\n",
       "    .dataframe tbody tr th {\n",
       "        vertical-align: top;\n",
       "    }\n",
       "\n",
       "    .dataframe thead th {\n",
       "        text-align: right;\n",
       "    }\n",
       "</style>\n",
       "<table border=\"1\" class=\"dataframe\">\n",
       "  <thead>\n",
       "    <tr style=\"text-align: right;\">\n",
       "      <th></th>\n",
       "      <th>DATE</th>\n",
       "      <th>WIND</th>\n",
       "      <th>IND</th>\n",
       "      <th>RAIN</th>\n",
       "      <th>IND.1</th>\n",
       "      <th>T.MAX</th>\n",
       "      <th>IND.2</th>\n",
       "      <th>T.MIN</th>\n",
       "      <th>T.MIN.G</th>\n",
       "    </tr>\n",
       "  </thead>\n",
       "  <tbody>\n",
       "    <tr>\n",
       "      <th>6569</th>\n",
       "      <td>1978-12-27</td>\n",
       "      <td>14.46</td>\n",
       "      <td>0</td>\n",
       "      <td>16.8</td>\n",
       "      <td>0.0</td>\n",
       "      <td>9.8</td>\n",
       "      <td>0.0</td>\n",
       "      <td>4.0</td>\n",
       "      <td>0.0</td>\n",
       "    </tr>\n",
       "    <tr>\n",
       "      <th>6570</th>\n",
       "      <td>1978-12-28</td>\n",
       "      <td>14.33</td>\n",
       "      <td>0</td>\n",
       "      <td>16.0</td>\n",
       "      <td>0.0</td>\n",
       "      <td>9.1</td>\n",
       "      <td>0.0</td>\n",
       "      <td>8.5</td>\n",
       "      <td>8.0</td>\n",
       "    </tr>\n",
       "    <tr>\n",
       "      <th>6571</th>\n",
       "      <td>1978-12-29</td>\n",
       "      <td>19.17</td>\n",
       "      <td>0</td>\n",
       "      <td>14.7</td>\n",
       "      <td>0.0</td>\n",
       "      <td>5.0</td>\n",
       "      <td>0.0</td>\n",
       "      <td>3.5</td>\n",
       "      <td>3.2</td>\n",
       "    </tr>\n",
       "    <tr>\n",
       "      <th>6572</th>\n",
       "      <td>1978-12-30</td>\n",
       "      <td>18.08</td>\n",
       "      <td>0</td>\n",
       "      <td>4.9</td>\n",
       "      <td>0.0</td>\n",
       "      <td>2.9</td>\n",
       "      <td>0.0</td>\n",
       "      <td>0.3</td>\n",
       "      <td>-0.5</td>\n",
       "    </tr>\n",
       "    <tr>\n",
       "      <th>6573</th>\n",
       "      <td>1978-12-31</td>\n",
       "      <td>19.25</td>\n",
       "      <td>0</td>\n",
       "      <td>0.5</td>\n",
       "      <td>0.0</td>\n",
       "      <td>1.2</td>\n",
       "      <td>1.0</td>\n",
       "      <td>-1.5</td>\n",
       "      <td>-3.0</td>\n",
       "    </tr>\n",
       "  </tbody>\n",
       "</table>\n",
       "</div>"
      ],
      "text/plain": [
       "           DATE   WIND  IND  RAIN  IND.1  T.MAX  IND.2  T.MIN  T.MIN.G\n",
       "6569 1978-12-27  14.46    0  16.8    0.0    9.8    0.0    4.0      0.0\n",
       "6570 1978-12-28  14.33    0  16.0    0.0    9.1    0.0    8.5      8.0\n",
       "6571 1978-12-29  19.17    0  14.7    0.0    5.0    0.0    3.5      3.2\n",
       "6572 1978-12-30  18.08    0   4.9    0.0    2.9    0.0    0.3     -0.5\n",
       "6573 1978-12-31  19.25    0   0.5    0.0    1.2    1.0   -1.5     -3.0"
      ]
     },
     "execution_count": 6,
     "metadata": {},
     "output_type": "execute_result"
    }
   ],
   "source": [
    "df.tail()"
   ]
  },
  {
   "cell_type": "code",
   "execution_count": 7,
   "id": "ce3d1253",
   "metadata": {},
   "outputs": [
    {
     "data": {
      "text/html": [
       "<div>\n",
       "<style scoped>\n",
       "    .dataframe tbody tr th:only-of-type {\n",
       "        vertical-align: middle;\n",
       "    }\n",
       "\n",
       "    .dataframe tbody tr th {\n",
       "        vertical-align: top;\n",
       "    }\n",
       "\n",
       "    .dataframe thead th {\n",
       "        text-align: right;\n",
       "    }\n",
       "</style>\n",
       "<table border=\"1\" class=\"dataframe\">\n",
       "  <thead>\n",
       "    <tr style=\"text-align: right;\">\n",
       "      <th></th>\n",
       "      <th>WIND</th>\n",
       "      <th>IND</th>\n",
       "      <th>RAIN</th>\n",
       "      <th>IND.1</th>\n",
       "      <th>T.MAX</th>\n",
       "      <th>IND.2</th>\n",
       "      <th>T.MIN</th>\n",
       "      <th>T.MIN.G</th>\n",
       "    </tr>\n",
       "  </thead>\n",
       "  <tbody>\n",
       "    <tr>\n",
       "      <th>count</th>\n",
       "      <td>6574.000000</td>\n",
       "      <td>6574.000000</td>\n",
       "      <td>6574.000000</td>\n",
       "      <td>6513.000000</td>\n",
       "      <td>5953.000000</td>\n",
       "      <td>6513.000000</td>\n",
       "      <td>5900.000000</td>\n",
       "      <td>6214.000000</td>\n",
       "    </tr>\n",
       "    <tr>\n",
       "      <th>mean</th>\n",
       "      <td>9.796834</td>\n",
       "      <td>0.391542</td>\n",
       "      <td>1.885169</td>\n",
       "      <td>0.356364</td>\n",
       "      <td>13.339123</td>\n",
       "      <td>0.464456</td>\n",
       "      <td>6.411678</td>\n",
       "      <td>2.736547</td>\n",
       "    </tr>\n",
       "    <tr>\n",
       "      <th>std</th>\n",
       "      <td>4.977272</td>\n",
       "      <td>1.179092</td>\n",
       "      <td>4.030529</td>\n",
       "      <td>1.128552</td>\n",
       "      <td>4.890546</td>\n",
       "      <td>1.177571</td>\n",
       "      <td>4.637243</td>\n",
       "      <td>5.569175</td>\n",
       "    </tr>\n",
       "    <tr>\n",
       "      <th>min</th>\n",
       "      <td>0.000000</td>\n",
       "      <td>0.000000</td>\n",
       "      <td>0.000000</td>\n",
       "      <td>0.000000</td>\n",
       "      <td>-0.100000</td>\n",
       "      <td>0.000000</td>\n",
       "      <td>-11.500000</td>\n",
       "      <td>-14.400000</td>\n",
       "    </tr>\n",
       "    <tr>\n",
       "      <th>25%</th>\n",
       "      <td>6.000000</td>\n",
       "      <td>0.000000</td>\n",
       "      <td>0.000000</td>\n",
       "      <td>0.000000</td>\n",
       "      <td>9.600000</td>\n",
       "      <td>0.000000</td>\n",
       "      <td>3.000000</td>\n",
       "      <td>-1.000000</td>\n",
       "    </tr>\n",
       "    <tr>\n",
       "      <th>50%</th>\n",
       "      <td>9.210000</td>\n",
       "      <td>0.000000</td>\n",
       "      <td>0.200000</td>\n",
       "      <td>0.000000</td>\n",
       "      <td>13.300000</td>\n",
       "      <td>0.000000</td>\n",
       "      <td>6.500000</td>\n",
       "      <td>3.000000</td>\n",
       "    </tr>\n",
       "    <tr>\n",
       "      <th>75%</th>\n",
       "      <td>12.960000</td>\n",
       "      <td>0.000000</td>\n",
       "      <td>2.000000</td>\n",
       "      <td>0.000000</td>\n",
       "      <td>17.200000</td>\n",
       "      <td>0.000000</td>\n",
       "      <td>10.000000</td>\n",
       "      <td>7.000000</td>\n",
       "    </tr>\n",
       "    <tr>\n",
       "      <th>max</th>\n",
       "      <td>30.370000</td>\n",
       "      <td>4.000000</td>\n",
       "      <td>67.000000</td>\n",
       "      <td>4.000000</td>\n",
       "      <td>26.800000</td>\n",
       "      <td>4.000000</td>\n",
       "      <td>18.000000</td>\n",
       "      <td>15.800000</td>\n",
       "    </tr>\n",
       "  </tbody>\n",
       "</table>\n",
       "</div>"
      ],
      "text/plain": [
       "              WIND          IND         RAIN        IND.1        T.MAX  \\\n",
       "count  6574.000000  6574.000000  6574.000000  6513.000000  5953.000000   \n",
       "mean      9.796834     0.391542     1.885169     0.356364    13.339123   \n",
       "std       4.977272     1.179092     4.030529     1.128552     4.890546   \n",
       "min       0.000000     0.000000     0.000000     0.000000    -0.100000   \n",
       "25%       6.000000     0.000000     0.000000     0.000000     9.600000   \n",
       "50%       9.210000     0.000000     0.200000     0.000000    13.300000   \n",
       "75%      12.960000     0.000000     2.000000     0.000000    17.200000   \n",
       "max      30.370000     4.000000    67.000000     4.000000    26.800000   \n",
       "\n",
       "             IND.2        T.MIN      T.MIN.G  \n",
       "count  6513.000000  5900.000000  6214.000000  \n",
       "mean      0.464456     6.411678     2.736547  \n",
       "std       1.177571     4.637243     5.569175  \n",
       "min       0.000000   -11.500000   -14.400000  \n",
       "25%       0.000000     3.000000    -1.000000  \n",
       "50%       0.000000     6.500000     3.000000  \n",
       "75%       0.000000    10.000000     7.000000  \n",
       "max       4.000000    18.000000    15.800000  "
      ]
     },
     "execution_count": 7,
     "metadata": {},
     "output_type": "execute_result"
    }
   ],
   "source": [
    "df.describe()"
   ]
  },
  {
   "cell_type": "markdown",
   "id": "ec429857",
   "metadata": {},
   "source": [
    "Vidimo da neki podaci nedostaju."
   ]
  },
  {
   "cell_type": "code",
   "execution_count": 8,
   "id": "e1a9a00e",
   "metadata": {},
   "outputs": [
    {
     "data": {
      "text/plain": [
       "<AxesSubplot:>"
      ]
     },
     "execution_count": 8,
     "metadata": {},
     "output_type": "execute_result"
    },
    {
     "data": {
      "image/png": "[encoded data removed]",
      "text/plain": [
       "<Figure size 1800x720 with 2 Axes>"
      ]
     },
     "metadata": {
      "needs_background": "light"
     },
     "output_type": "display_data"
    }
   ],
   "source": [
    "msno.matrix(df.sample(1000))"
   ]
  },
  {
   "cell_type": "markdown",
   "id": "2c8143c5",
   "metadata": {},
   "source": [
    "Primijetimo da cesto kada fali T.MAX fali i T.MIN, isto i za IND.2 i IND.1. Provjerimo to sa heatmapom i dendogramom."
   ]
  },
  {
   "cell_type": "code",
   "execution_count": 9,
   "id": "4bf4df03",
   "metadata": {},
   "outputs": [
    {
     "data": {
      "text/plain": [
       "<AxesSubplot:>"
      ]
     },
     "execution_count": 9,
     "metadata": {},
     "output_type": "execute_result"
    },
    {
     "data": {
      "image/png": "[encoded data removed]",
      "text/plain": [
       "<Figure size 1440x864 with 2 Axes>"
      ]
     },
     "metadata": {
      "needs_background": "light"
     },
     "output_type": "display_data"
    }
   ],
   "source": [
    "msno.heatmap(df)"
   ]
  },
  {
   "cell_type": "code",
   "execution_count": 10,
   "id": "d4e2e5d8",
   "metadata": {},
   "outputs": [
    {
     "data": {
      "text/plain": [
       "<AxesSubplot:>"
      ]
     },
     "execution_count": 10,
     "metadata": {},
     "output_type": "execute_result"
    },
    {
     "data": {
      "image/png": "[encoded data removed]",
      "text/plain": [
       "<Figure size 1800x720 with 1 Axes>"
      ]
     },
     "metadata": {
      "needs_background": "light"
     },
     "output_type": "display_data"
    }
   ],
   "source": [
    "msno.dendrogram(df)"
   ]
  },
  {
   "cell_type": "markdown",
   "id": "3a201f06",
   "metadata": {},
   "source": [
    "### Korelacija među značajkama"
   ]
  },
  {
   "cell_type": "code",
   "execution_count": 11,
   "id": "3c071ee7",
   "metadata": {},
   "outputs": [
    {
     "data": {
      "text/plain": [
       "<AxesSubplot:>"
      ]
     },
     "execution_count": 11,
     "metadata": {},
     "output_type": "execute_result"
    },
    {
     "data": {
      "image/png": "[encoded data removed]",
      "text/plain": [
       "<Figure size 1008x864 with 2 Axes>"
      ]
     },
     "metadata": {
      "needs_background": "light"
     },
     "output_type": "display_data"
    }
   ],
   "source": [
    "f , ax = plt.subplots(figsize = (14,12))\n",
    "sns.heatmap(df.corr(), annot=True)"
   ]
  },
  {
   "cell_type": "markdown",
   "id": "d67e0036",
   "metadata": {},
   "source": [
    "Iz heatmapa korelacije vidimo da postoje korelacije izmedu nekih znacajki, ali da s brzinom vjetra ni jedna znacajka nije u znacajnijoj korelaciji od ostalih."
   ]
  },
  {
   "cell_type": "code",
   "execution_count": null,
   "id": "a1ae73fc",
   "metadata": {},
   "outputs": [],
   "source": [
    "sns.pairplot(df)"
   ]
  },
  {
   "cell_type": "code",
   "execution_count": null,
   "id": "7d49dac7",
   "metadata": {},
   "outputs": [],
   "source": [
    "f , ax = plt.subplots(figsize = (14,12))\n",
    "sns.regplot(x='T.MAX',y='WIND',data=df,scatter= True, fit_reg=True,ax=ax)"
   ]
  },
  {
   "cell_type": "code",
   "execution_count": null,
   "id": "346822c6",
   "metadata": {},
   "outputs": [],
   "source": [
    "f , ax = plt.subplots(figsize = (14,12))\n",
    "sns.regplot(x='T.MIN',y='WIND',data=df,scatter= True, fit_reg=True,ax=ax)"
   ]
  },
  {
   "cell_type": "markdown",
   "id": "a49c369d",
   "metadata": {},
   "source": [
    "Primijecujemo da se s povecanjem temperature brzina vjetra donekle smanjuje."
   ]
  },
  {
   "cell_type": "code",
   "execution_count": null,
   "id": "f294a4dc",
   "metadata": {},
   "outputs": [],
   "source": [
    "f , ax = plt.subplots(figsize = (14,12))\n",
    "sns.regplot(x='RAIN',y='WIND',data=df,scatter= True, fit_reg=True,ax=ax)"
   ]
  },
  {
   "cell_type": "markdown",
   "id": "00a36c99",
   "metadata": {},
   "source": [
    "### Boxplot znacajki, te boxplot brzine vjetra unutar kategorija kategorijskih znacajki (IND, IND.1, IND.2)."
   ]
  },
  {
   "cell_type": "code",
   "execution_count": null,
   "id": "81a98613",
   "metadata": {},
   "outputs": [],
   "source": [
    "sns.boxplot(x=df['WIND'])"
   ]
  },
  {
   "cell_type": "code",
   "execution_count": null,
   "id": "346e4f5a",
   "metadata": {},
   "outputs": [],
   "source": [
    "sns.boxplot(x=df['RAIN'])"
   ]
  },
  {
   "cell_type": "markdown",
   "id": "65bd4112",
   "metadata": {},
   "source": [
    "Podaci za brzinu vjetra i kisu imaju dosta outliera."
   ]
  },
  {
   "cell_type": "code",
   "execution_count": null,
   "id": "d85ca29f",
   "metadata": {},
   "outputs": [],
   "source": [
    "sns.boxplot(x=df['T.MAX'])"
   ]
  },
  {
   "cell_type": "code",
   "execution_count": null,
   "id": "5f067993",
   "metadata": {},
   "outputs": [],
   "source": [
    "sns.boxplot(x=df['T.MIN'])"
   ]
  },
  {
   "cell_type": "code",
   "execution_count": null,
   "id": "c297243d",
   "metadata": {},
   "outputs": [],
   "source": [
    "sns.boxplot(x=df['T.MIN.G'])"
   ]
  },
  {
   "cell_type": "code",
   "execution_count": null,
   "id": "a2e00622",
   "metadata": {},
   "outputs": [],
   "source": [
    "df['IND'].value_counts().plot(kind='bar')"
   ]
  },
  {
   "cell_type": "code",
   "execution_count": null,
   "id": "0cb495cb",
   "metadata": {},
   "outputs": [],
   "source": [
    "data = pd.concat([df['WIND'], df['IND']], axis=1)\n",
    "f, ax = plt.subplots(figsize=(12, 8))\n",
    "fig = sns.boxplot(x='IND', y=\"WIND\", data=df)"
   ]
  },
  {
   "cell_type": "code",
   "execution_count": null,
   "id": "b84fa99e",
   "metadata": {},
   "outputs": [],
   "source": [
    "df['IND.1'].value_counts().plot(kind='bar')"
   ]
  },
  {
   "cell_type": "code",
   "execution_count": null,
   "id": "edc9a3ae",
   "metadata": {},
   "outputs": [],
   "source": [
    "data = pd.concat([df['WIND'], df['IND.1']], axis=1)\n",
    "f, ax = plt.subplots(figsize=(12, 8))\n",
    "fig = sns.boxplot(x='IND.1', y=\"WIND\", data=df)"
   ]
  },
  {
   "cell_type": "code",
   "execution_count": null,
   "id": "ecfbaf63",
   "metadata": {},
   "outputs": [],
   "source": [
    "df['IND.2'].value_counts().plot(kind='bar')"
   ]
  },
  {
   "cell_type": "code",
   "execution_count": null,
   "id": "744f44bc",
   "metadata": {},
   "outputs": [],
   "source": [
    "data = pd.concat([df['WIND'], df['IND.2']], axis=1)\n",
    "f, ax = plt.subplots(figsize=(12, 8))\n",
    "fig = sns.boxplot(x='IND.2', y=\"WIND\", data=df)"
   ]
  },
  {
   "cell_type": "markdown",
   "id": "3e7e623b",
   "metadata": {},
   "source": [
    "### Grafov u ovisnosti o datumu"
   ]
  },
  {
   "cell_type": "code",
   "execution_count": null,
   "id": "c4bc5602",
   "metadata": {},
   "outputs": [],
   "source": [
    "df.plot(x='DATE',y='WIND',figsize=(15,8))"
   ]
  },
  {
   "cell_type": "markdown",
   "id": "bfdf3a37",
   "metadata": {},
   "source": [
    "Mozemo primijetiti periodicnost brzine vjetra kroz godinu, oko kraja/pocetka godine obicno su vjetrovi jaci."
   ]
  },
  {
   "cell_type": "code",
   "execution_count": null,
   "id": "8e49fde7",
   "metadata": {},
   "outputs": [],
   "source": [
    "df.plot(x='DATE',y='T.MAX',figsize=(15,8))"
   ]
  },
  {
   "cell_type": "code",
   "execution_count": null,
   "id": "26085c0c",
   "metadata": {},
   "outputs": [],
   "source": [
    "df.plot(x='DATE',y='T.MIN',figsize=(15,8))"
   ]
  },
  {
   "cell_type": "code",
   "execution_count": null,
   "id": "45f8f06c",
   "metadata": {},
   "outputs": [],
   "source": [
    "df.plot(x='DATE',y='T.MIN.G',figsize=(15,8))"
   ]
  },
  {
   "cell_type": "markdown",
   "id": "fd38ec86",
   "metadata": {},
   "source": [
    "Periodicnost temperature o datumu smo ocekivali. Kako se mijenjaju godisnja doba tako se smanjuju ili povisuju temperature."
   ]
  },
  {
   "cell_type": "code",
   "execution_count": null,
   "id": "9dfc010e",
   "metadata": {},
   "outputs": [],
   "source": []
  }
 ],
 "metadata": {
  "kernelspec": {
   "display_name": "Python 3 (ipykernel)",
   "language": "python",
   "name": "python3"
  },
  "language_info": {
   "codemirror_mode": {
    "name": "ipython",
    "version": 3
   },
   "file_extension": ".py",
   "mimetype": "text/x-python",
   "name": "python",
   "nbconvert_exporter": "python",
   "pygments_lexer": "ipython3",
   "version": "3.8.1"
  }
 },
 "nbformat": 4,
 "nbformat_minor": 5
}
