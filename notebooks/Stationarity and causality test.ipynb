{
 "cells": [
  {
   "cell_type": "code",
   "execution_count": 1,
   "id": "e9cd5419",
   "metadata": {},
   "outputs": [],
   "source": [
    "import numpy as np\n",
    "import pandas as pd\n",
    "import matplotlib.pyplot as plt\n",
    "%matplotlib inline\n",
    "import seaborn as sns\n",
    "import datetime"
   ]
  },
  {
   "cell_type": "code",
   "execution_count": 5,
   "id": "db32968c",
   "metadata": {},
   "outputs": [
    {
     "data": {
      "text/html": [
       "<div>\n",
       "<style scoped>\n",
       "    .dataframe tbody tr th:only-of-type {\n",
       "        vertical-align: middle;\n",
       "    }\n",
       "\n",
       "    .dataframe tbody tr th {\n",
       "        vertical-align: top;\n",
       "    }\n",
       "\n",
       "    .dataframe thead th {\n",
       "        text-align: right;\n",
       "    }\n",
       "</style>\n",
       "<table border=\"1\" class=\"dataframe\">\n",
       "  <thead>\n",
       "    <tr style=\"text-align: right;\">\n",
       "      <th></th>\n",
       "      <th>WIND</th>\n",
       "      <th>IND</th>\n",
       "      <th>RAIN</th>\n",
       "      <th>IND.1</th>\n",
       "      <th>T.MAX</th>\n",
       "      <th>IND.2</th>\n",
       "      <th>T.MIN</th>\n",
       "      <th>T.MIN.G</th>\n",
       "    </tr>\n",
       "    <tr>\n",
       "      <th>DATE</th>\n",
       "      <th></th>\n",
       "      <th></th>\n",
       "      <th></th>\n",
       "      <th></th>\n",
       "      <th></th>\n",
       "      <th></th>\n",
       "      <th></th>\n",
       "      <th></th>\n",
       "    </tr>\n",
       "  </thead>\n",
       "  <tbody>\n",
       "    <tr>\n",
       "      <th>1961-01-01</th>\n",
       "      <td>13.67</td>\n",
       "      <td>0</td>\n",
       "      <td>0.2</td>\n",
       "      <td>0.0</td>\n",
       "      <td>9.5</td>\n",
       "      <td>0.0</td>\n",
       "      <td>3.7</td>\n",
       "      <td>-1.0</td>\n",
       "    </tr>\n",
       "    <tr>\n",
       "      <th>1961-01-02</th>\n",
       "      <td>11.50</td>\n",
       "      <td>0</td>\n",
       "      <td>5.1</td>\n",
       "      <td>0.0</td>\n",
       "      <td>7.2</td>\n",
       "      <td>0.0</td>\n",
       "      <td>4.2</td>\n",
       "      <td>1.1</td>\n",
       "    </tr>\n",
       "    <tr>\n",
       "      <th>1961-01-03</th>\n",
       "      <td>11.25</td>\n",
       "      <td>0</td>\n",
       "      <td>0.4</td>\n",
       "      <td>0.0</td>\n",
       "      <td>5.5</td>\n",
       "      <td>0.0</td>\n",
       "      <td>0.5</td>\n",
       "      <td>-0.5</td>\n",
       "    </tr>\n",
       "    <tr>\n",
       "      <th>1961-01-04</th>\n",
       "      <td>8.63</td>\n",
       "      <td>0</td>\n",
       "      <td>0.2</td>\n",
       "      <td>0.0</td>\n",
       "      <td>5.6</td>\n",
       "      <td>0.0</td>\n",
       "      <td>0.4</td>\n",
       "      <td>-3.2</td>\n",
       "    </tr>\n",
       "    <tr>\n",
       "      <th>1961-01-05</th>\n",
       "      <td>11.92</td>\n",
       "      <td>0</td>\n",
       "      <td>10.4</td>\n",
       "      <td>0.0</td>\n",
       "      <td>7.2</td>\n",
       "      <td>1.0</td>\n",
       "      <td>-1.5</td>\n",
       "      <td>-7.5</td>\n",
       "    </tr>\n",
       "  </tbody>\n",
       "</table>\n",
       "</div>"
      ],
      "text/plain": [
       "             WIND  IND  RAIN  IND.1  T.MAX  IND.2  T.MIN  T.MIN.G\n",
       "DATE                                                             \n",
       "1961-01-01  13.67    0   0.2    0.0    9.5    0.0    3.7     -1.0\n",
       "1961-01-02  11.50    0   5.1    0.0    7.2    0.0    4.2      1.1\n",
       "1961-01-03  11.25    0   0.4    0.0    5.5    0.0    0.5     -0.5\n",
       "1961-01-04   8.63    0   0.2    0.0    5.6    0.0    0.4     -3.2\n",
       "1961-01-05  11.92    0  10.4    0.0    7.2    1.0   -1.5     -7.5"
      ]
     },
     "execution_count": 5,
     "metadata": {},
     "output_type": "execute_result"
    }
   ],
   "source": [
    "df1 = pd.read_csv(\"../input/wind_dataset_imputed1.csv\")\n",
    "df1['DATE']=pd.to_datetime(df1['DATE'])\n",
    "df1 = df1.set_index('DATE')\n",
    "df1.head()"
   ]
  },
  {
   "cell_type": "code",
   "execution_count": 6,
   "id": "344d715e",
   "metadata": {},
   "outputs": [
    {
     "data": {
      "text/html": [
       "<div>\n",
       "<style scoped>\n",
       "    .dataframe tbody tr th:only-of-type {\n",
       "        vertical-align: middle;\n",
       "    }\n",
       "\n",
       "    .dataframe tbody tr th {\n",
       "        vertical-align: top;\n",
       "    }\n",
       "\n",
       "    .dataframe thead th {\n",
       "        text-align: right;\n",
       "    }\n",
       "</style>\n",
       "<table border=\"1\" class=\"dataframe\">\n",
       "  <thead>\n",
       "    <tr style=\"text-align: right;\">\n",
       "      <th></th>\n",
       "      <th>WIND</th>\n",
       "      <th>IND</th>\n",
       "      <th>RAIN</th>\n",
       "      <th>IND.1</th>\n",
       "      <th>T.MAX</th>\n",
       "      <th>IND.2</th>\n",
       "      <th>T.MIN</th>\n",
       "      <th>T.MIN.G</th>\n",
       "    </tr>\n",
       "    <tr>\n",
       "      <th>DATE</th>\n",
       "      <th></th>\n",
       "      <th></th>\n",
       "      <th></th>\n",
       "      <th></th>\n",
       "      <th></th>\n",
       "      <th></th>\n",
       "      <th></th>\n",
       "      <th></th>\n",
       "    </tr>\n",
       "  </thead>\n",
       "  <tbody>\n",
       "    <tr>\n",
       "      <th>1961-01-01</th>\n",
       "      <td>13.67</td>\n",
       "      <td>0</td>\n",
       "      <td>0.2</td>\n",
       "      <td>0.0</td>\n",
       "      <td>9.5</td>\n",
       "      <td>0.0</td>\n",
       "      <td>3.7</td>\n",
       "      <td>-1.0</td>\n",
       "    </tr>\n",
       "    <tr>\n",
       "      <th>1961-01-02</th>\n",
       "      <td>11.50</td>\n",
       "      <td>0</td>\n",
       "      <td>5.1</td>\n",
       "      <td>0.0</td>\n",
       "      <td>7.2</td>\n",
       "      <td>0.0</td>\n",
       "      <td>4.2</td>\n",
       "      <td>1.1</td>\n",
       "    </tr>\n",
       "    <tr>\n",
       "      <th>1961-01-03</th>\n",
       "      <td>11.25</td>\n",
       "      <td>0</td>\n",
       "      <td>0.4</td>\n",
       "      <td>0.0</td>\n",
       "      <td>5.5</td>\n",
       "      <td>0.0</td>\n",
       "      <td>0.5</td>\n",
       "      <td>-0.5</td>\n",
       "    </tr>\n",
       "    <tr>\n",
       "      <th>1961-01-04</th>\n",
       "      <td>8.63</td>\n",
       "      <td>0</td>\n",
       "      <td>0.2</td>\n",
       "      <td>0.0</td>\n",
       "      <td>5.6</td>\n",
       "      <td>0.0</td>\n",
       "      <td>0.4</td>\n",
       "      <td>-3.2</td>\n",
       "    </tr>\n",
       "    <tr>\n",
       "      <th>1961-01-05</th>\n",
       "      <td>11.92</td>\n",
       "      <td>0</td>\n",
       "      <td>10.4</td>\n",
       "      <td>0.0</td>\n",
       "      <td>7.2</td>\n",
       "      <td>1.0</td>\n",
       "      <td>-1.5</td>\n",
       "      <td>-7.5</td>\n",
       "    </tr>\n",
       "  </tbody>\n",
       "</table>\n",
       "</div>"
      ],
      "text/plain": [
       "             WIND  IND  RAIN  IND.1  T.MAX  IND.2  T.MIN  T.MIN.G\n",
       "DATE                                                             \n",
       "1961-01-01  13.67    0   0.2    0.0    9.5    0.0    3.7     -1.0\n",
       "1961-01-02  11.50    0   5.1    0.0    7.2    0.0    4.2      1.1\n",
       "1961-01-03  11.25    0   0.4    0.0    5.5    0.0    0.5     -0.5\n",
       "1961-01-04   8.63    0   0.2    0.0    5.6    0.0    0.4     -3.2\n",
       "1961-01-05  11.92    0  10.4    0.0    7.2    1.0   -1.5     -7.5"
      ]
     },
     "execution_count": 6,
     "metadata": {},
     "output_type": "execute_result"
    }
   ],
   "source": [
    "df2 = pd.read_csv(\"../input/wind_dataset_imputed2.csv\")\n",
    "df2['DATE']=pd.to_datetime(df2['DATE'])\n",
    "df2 = df2.set_index('DATE')\n",
    "df2.head()"
   ]
  },
  {
   "cell_type": "code",
   "execution_count": 15,
   "id": "f5d6e8d1",
   "metadata": {},
   "outputs": [],
   "source": [
    "from statsmodels.tsa.stattools import adfuller\n",
    "\n",
    "def adfuller_test(series, sig=0.05, name=''):\n",
    "    res = adfuller(series, autolag='AIC')    \n",
    "    p_value = round(res[1], 3) \n",
    "\n",
    "    if p_value <= sig:\n",
    "        print(f\" {name} : P-Value = {p_value} => Stationary. \")\n",
    "    else:\n",
    "        print(f\" {name} : P-Value = {p_value} => Non-stationary.\")"
   ]
  },
  {
   "cell_type": "markdown",
   "id": "8e21fcd7",
   "metadata": {},
   "source": [
    "### df1 stationarity"
   ]
  },
  {
   "cell_type": "code",
   "execution_count": 16,
   "id": "50c14987",
   "metadata": {},
   "outputs": [
    {
     "name": "stdout",
     "output_type": "stream",
     "text": [
      " WIND : P-Value = 0.0 => Stationary. \n",
      " IND : P-Value = 0.0 => Stationary. \n",
      " RAIN : P-Value = 0.0 => Stationary. \n",
      " IND.1 : P-Value = 0.0 => Stationary. \n",
      " T.MAX : P-Value = 0.0 => Stationary. \n",
      " IND.2 : P-Value = 0.0 => Stationary. \n",
      " T.MIN : P-Value = 0.0 => Stationary. \n",
      " T.MIN.G : P-Value = 0.0 => Stationary. \n"
     ]
    }
   ],
   "source": [
    "for name, column in df1.iteritems():\n",
    "    adfuller_test(column, name=column.name)"
   ]
  },
  {
   "cell_type": "markdown",
   "id": "4b27e34e",
   "metadata": {},
   "source": [
    "### df2 stationarity"
   ]
  },
  {
   "cell_type": "code",
   "execution_count": 17,
   "id": "83cd993c",
   "metadata": {},
   "outputs": [
    {
     "name": "stdout",
     "output_type": "stream",
     "text": [
      " WIND : P-Value = 0.0 => Stationary. \n",
      " IND : P-Value = 0.0 => Stationary. \n",
      " RAIN : P-Value = 0.0 => Stationary. \n",
      " IND.1 : P-Value = 0.0 => Stationary. \n",
      " T.MAX : P-Value = 0.0 => Stationary. \n",
      " IND.2 : P-Value = 0.0 => Stationary. \n",
      " T.MIN : P-Value = 0.0 => Stationary. \n",
      " T.MIN.G : P-Value = 0.0 => Stationary. \n"
     ]
    }
   ],
   "source": [
    "for name, column in df2.iteritems():\n",
    "    adfuller_test(column, name=column.name)"
   ]
  },
  {
   "cell_type": "markdown",
   "id": "2fc6f659",
   "metadata": {},
   "source": [
    "### df1 causality"
   ]
  },
  {
   "cell_type": "code",
   "execution_count": 11,
   "id": "ff465b75",
   "metadata": {},
   "outputs": [
    {
     "name": "stderr",
     "output_type": "stream",
     "text": [
      "E:\\Informatika\\Anaconda\\lib\\site-packages\\statsmodels\\base\\model.py:1830: ValueWarning: covariance of constraints does not have full rank. The number of constraints is 13, but rank is 3\n",
      "  warnings.warn('covariance of constraints does not have full '\n"
     ]
    },
    {
     "name": "stdout",
     "output_type": "stream",
     "text": [
      "           WIND_x   IND_x  RAIN_x  IND.1_x  T.MAX_x  IND.2_x  T.MIN_x  \\\n",
      "WIND_y     1.0000  0.0007  0.0000   0.0019   0.0000   0.0000   0.0000   \n",
      "IND_y      0.2700  1.0000  0.0468   0.1626   0.0001   0.0931   0.0022   \n",
      "RAIN_y     0.0007  0.3440  1.0000   0.2500   0.1410   0.4058   0.3219   \n",
      "IND.1_y    0.0014  0.5768  0.2055   1.0000   0.3845   0.0000   0.5088   \n",
      "T.MAX_y    0.0000  0.0537  0.0000   0.1235   1.0000   0.0490   0.0000   \n",
      "IND.2_y    0.0000  0.0509  0.0011   0.0000   0.0000   1.0000   0.0000   \n",
      "T.MIN_y    0.0000  0.0000  0.0000   0.7312   0.0000   0.1945   1.0000   \n",
      "T.MIN.G_y  0.0000  0.0000  0.0000   0.8479   0.0000   0.1386   0.0000   \n",
      "\n",
      "           T.MIN.G_x  \n",
      "WIND_y        0.0000  \n",
      "IND_y         0.0001  \n",
      "RAIN_y        0.6413  \n",
      "IND.1_y       0.3098  \n",
      "T.MAX_y       0.0000  \n",
      "IND.2_y       0.0000  \n",
      "T.MIN_y       0.0000  \n",
      "T.MIN.G_y     1.0000  \n"
     ]
    }
   ],
   "source": [
    "from statsmodels.tsa.stattools import grangercausalitytests\n",
    "\n",
    "variables=df1.columns  \n",
    "matrix = pd.DataFrame(np.zeros((len(variables), len(variables))), columns=variables, index=variables)\n",
    "for col in matrix.columns:\n",
    "    for row in matrix.index:\n",
    "        test_result = grangercausalitytests(df1[[row, col]], maxlag=20, verbose=False)            \n",
    "        p_values = [round(test_result[i+1][0]['ssr_chi2test'][1],4) for i in range(20)]            \n",
    "        min_p_value = np.min(p_values)\n",
    "        matrix.loc[row, col] = min_p_value\n",
    "matrix.columns = [var + '_x' for var in variables]\n",
    "matrix.index = [var + '_y' for var in variables]\n",
    "print(matrix)"
   ]
  },
  {
   "cell_type": "markdown",
   "id": "5ba11e2c",
   "metadata": {},
   "source": [
    "### df2 causality"
   ]
  },
  {
   "cell_type": "code",
   "execution_count": 13,
   "id": "f930fbcb",
   "metadata": {},
   "outputs": [
    {
     "name": "stdout",
     "output_type": "stream",
     "text": [
      "           WIND_x   IND_x  RAIN_x  IND.1_x  T.MAX_x  IND.2_x  T.MIN_x  \\\n",
      "WIND_y     1.0000  0.0007  0.0000   0.0018   0.0000   0.0000   0.0000   \n",
      "IND_y      0.2700  1.0000  0.0468   0.1594   0.0001   0.1955   0.0087   \n",
      "RAIN_y     0.0007  0.3440  1.0000   0.2339   0.0696   0.4787   0.3655   \n",
      "IND.1_y    0.0010  0.6031  0.1924   1.0000   0.0546   0.0000   0.3571   \n",
      "T.MAX_y    0.0000  0.3840  0.0001   0.0104   1.0000   0.0184   0.0000   \n",
      "IND.2_y    0.0000  0.0568  0.0011   0.0000   0.0000   1.0000   0.0000   \n",
      "T.MIN_y    0.0000  0.0000  0.0000   0.5146   0.0000   0.1601   1.0000   \n",
      "T.MIN.G_y  0.0000  0.0000  0.0000   0.7561   0.0000   0.0968   0.0000   \n",
      "\n",
      "           T.MIN.G_x  \n",
      "WIND_y        0.0000  \n",
      "IND_y         0.0001  \n",
      "RAIN_y        0.6777  \n",
      "IND.1_y       0.1344  \n",
      "T.MAX_y       0.0000  \n",
      "IND.2_y       0.0000  \n",
      "T.MIN_y       0.0000  \n",
      "T.MIN.G_y     1.0000  \n"
     ]
    }
   ],
   "source": [
    "from statsmodels.tsa.stattools import grangercausalitytests\n",
    "\n",
    "variables=df2.columns  \n",
    "matrix = pd.DataFrame(np.zeros((len(variables), len(variables))), columns=variables, index=variables)\n",
    "for col in matrix.columns:\n",
    "    for row in matrix.index:\n",
    "        test_result = grangercausalitytests(df2[[row, col]], maxlag=20, verbose=False)            \n",
    "        p_values = [round(test_result[i+1][0]['ssr_chi2test'][1],4) for i in range(20)]            \n",
    "        min_p_value = np.min(p_values)\n",
    "        matrix.loc[row, col] = min_p_value\n",
    "matrix.columns = [var + '_x' for var in variables]\n",
    "matrix.index = [var + '_y' for var in variables]\n",
    "print(matrix)"
   ]
  },
  {
   "cell_type": "markdown",
   "id": "5506afee",
   "metadata": {},
   "source": [
    "### cointegration test"
   ]
  },
  {
   "cell_type": "code",
   "execution_count": 19,
   "id": "1affc574",
   "metadata": {},
   "outputs": [],
   "source": [
    "from statsmodels.tsa.vector_ar.vecm import coint_johansen\n",
    "\n",
    "def cointegration_test(df, alpha=0.05): \n",
    "    out = coint_johansen(df,-1,5)\n",
    "    d = {'0.90':0, '0.95':1, '0.99':2}\n",
    "    traces = out.lr1\n",
    "    cvts = out.cvt[:, d[str(1-alpha)]]\n",
    "    def adjust(val, length= 6): return str(val).ljust(length)\n",
    "\n",
    "    # Summary\n",
    "    print('Name   ::  Test Stat > C(95%)    =>   Signif  \\n', '--'*20)\n",
    "    for col, trace, cvt in zip(df.columns, traces, cvts):\n",
    "        print(adjust(col), ':: ', adjust(round(trace,2), 9), \">\", adjust(cvt, 8), ' =>  ' , trace > cvt)"
   ]
  },
  {
   "cell_type": "markdown",
   "id": "872f1fa4",
   "metadata": {},
   "source": [
    "### df1 cointegration"
   ]
  },
  {
   "cell_type": "code",
   "execution_count": 18,
   "id": "e77b13c9",
   "metadata": {},
   "outputs": [
    {
     "name": "stdout",
     "output_type": "stream",
     "text": [
      "Name   ::  Test Stat > C(95%)    =>   Signif  \n",
      " ----------------------------------------\n",
      "WIND   ::  2920.17   > 143.6691  =>   True\n",
      "IND    ::  2131.87   > 111.7797  =>   True\n",
      "RAIN   ::  1384.65   > 83.9383   =>   True\n",
      "IND.1  ::  749.26    > 60.0627   =>   True\n",
      "T.MAX  ::  395.25    > 40.1749   =>   True\n",
      "IND.2  ::  176.34    > 24.2761   =>   True\n",
      "T.MIN  ::  52.28     > 12.3212   =>   True\n",
      "T.MIN.G ::  5.81      > 4.1296    =>   True\n"
     ]
    }
   ],
   "source": [
    "cointegration_test(df1)"
   ]
  },
  {
   "cell_type": "markdown",
   "id": "e82d6823",
   "metadata": {},
   "source": [
    "### df2 cointegration"
   ]
  },
  {
   "cell_type": "code",
   "execution_count": 20,
   "id": "003c9e74",
   "metadata": {},
   "outputs": [
    {
     "name": "stdout",
     "output_type": "stream",
     "text": [
      "Name   ::  Test Stat > C(95%)    =>   Signif  \n",
      " ----------------------------------------\n",
      "WIND   ::  2974.58   > 143.6691  =>   True\n",
      "IND    ::  2172.65   > 111.7797  =>   True\n",
      "RAIN   ::  1427.22   > 83.9383   =>   True\n",
      "IND.1  ::  751.79    > 60.0627   =>   True\n",
      "T.MAX  ::  399.63    > 40.1749   =>   True\n",
      "IND.2  ::  182.16    > 24.2761   =>   True\n",
      "T.MIN  ::  52.49     > 12.3212   =>   True\n",
      "T.MIN.G ::  6.07      > 4.1296    =>   True\n"
     ]
    }
   ],
   "source": [
    "cointegration_test(df2)"
   ]
  }
 ],
 "metadata": {
  "kernelspec": {
   "display_name": "Python 3 (ipykernel)",
   "language": "python",
   "name": "python3"
  },
  "language_info": {
   "codemirror_mode": {
    "name": "ipython",
    "version": 3
   },
   "file_extension": ".py",
   "mimetype": "text/x-python",
   "name": "python",
   "nbconvert_exporter": "python",
   "pygments_lexer": "ipython3",
   "version": "3.8.1"
  }
 },
 "nbformat": 4,
 "nbformat_minor": 5
}
