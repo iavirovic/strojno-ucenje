{
 "cells": [
  {
   "cell_type": "code",
   "execution_count": 1,
   "id": "d7d955f1",
   "metadata": {},
   "outputs": [],
   "source": [
    "import math\n",
    "import numpy as np\n",
    "import pandas as pd\n",
    "from sklearn.linear_model import LinearRegression\n",
    "from sklearn.model_selection import train_test_split\n",
    "from sklearn.metrics import mean_absolute_error\n",
    "from sklearn.model_selection import KFold"
   ]
  },
  {
   "cell_type": "code",
   "execution_count": 2,
   "id": "93a11b6e",
   "metadata": {},
   "outputs": [
    {
     "data": {
      "text/html": [
       "<div>\n",
       "<style scoped>\n",
       "    .dataframe tbody tr th:only-of-type {\n",
       "        vertical-align: middle;\n",
       "    }\n",
       "\n",
       "    .dataframe tbody tr th {\n",
       "        vertical-align: top;\n",
       "    }\n",
       "\n",
       "    .dataframe thead th {\n",
       "        text-align: right;\n",
       "    }\n",
       "</style>\n",
       "<table border=\"1\" class=\"dataframe\">\n",
       "  <thead>\n",
       "    <tr style=\"text-align: right;\">\n",
       "      <th></th>\n",
       "      <th>WIND</th>\n",
       "      <th>IND</th>\n",
       "      <th>RAIN</th>\n",
       "      <th>IND.1</th>\n",
       "      <th>T.MAX</th>\n",
       "      <th>IND.2</th>\n",
       "      <th>T.MIN</th>\n",
       "      <th>T.MIN.G</th>\n",
       "    </tr>\n",
       "  </thead>\n",
       "  <tbody>\n",
       "    <tr>\n",
       "      <th>0</th>\n",
       "      <td>13.67</td>\n",
       "      <td>0</td>\n",
       "      <td>0.2</td>\n",
       "      <td>0.0</td>\n",
       "      <td>9.5</td>\n",
       "      <td>0.0</td>\n",
       "      <td>3.7</td>\n",
       "      <td>-1.0</td>\n",
       "    </tr>\n",
       "    <tr>\n",
       "      <th>1</th>\n",
       "      <td>11.50</td>\n",
       "      <td>0</td>\n",
       "      <td>5.1</td>\n",
       "      <td>0.0</td>\n",
       "      <td>7.2</td>\n",
       "      <td>0.0</td>\n",
       "      <td>4.2</td>\n",
       "      <td>1.1</td>\n",
       "    </tr>\n",
       "    <tr>\n",
       "      <th>2</th>\n",
       "      <td>11.25</td>\n",
       "      <td>0</td>\n",
       "      <td>0.4</td>\n",
       "      <td>0.0</td>\n",
       "      <td>5.5</td>\n",
       "      <td>0.0</td>\n",
       "      <td>0.5</td>\n",
       "      <td>-0.5</td>\n",
       "    </tr>\n",
       "    <tr>\n",
       "      <th>3</th>\n",
       "      <td>8.63</td>\n",
       "      <td>0</td>\n",
       "      <td>0.2</td>\n",
       "      <td>0.0</td>\n",
       "      <td>5.6</td>\n",
       "      <td>0.0</td>\n",
       "      <td>0.4</td>\n",
       "      <td>-3.2</td>\n",
       "    </tr>\n",
       "    <tr>\n",
       "      <th>4</th>\n",
       "      <td>11.92</td>\n",
       "      <td>0</td>\n",
       "      <td>10.4</td>\n",
       "      <td>0.0</td>\n",
       "      <td>7.2</td>\n",
       "      <td>1.0</td>\n",
       "      <td>-1.5</td>\n",
       "      <td>-7.5</td>\n",
       "    </tr>\n",
       "  </tbody>\n",
       "</table>\n",
       "</div>"
      ],
      "text/plain": [
       "    WIND  IND  RAIN  IND.1  T.MAX  IND.2  T.MIN  T.MIN.G\n",
       "0  13.67    0   0.2    0.0    9.5    0.0    3.7     -1.0\n",
       "1  11.50    0   5.1    0.0    7.2    0.0    4.2      1.1\n",
       "2  11.25    0   0.4    0.0    5.5    0.0    0.5     -0.5\n",
       "3   8.63    0   0.2    0.0    5.6    0.0    0.4     -3.2\n",
       "4  11.92    0  10.4    0.0    7.2    1.0   -1.5     -7.5"
      ]
     },
     "execution_count": 2,
     "metadata": {},
     "output_type": "execute_result"
    }
   ],
   "source": [
    "df = pd.read_csv('../input/wind_dataset_imputed2.csv')\n",
    "df = df.drop('DATE', axis='columns')\n",
    "df.head()"
   ]
  },
  {
   "cell_type": "code",
   "execution_count": 3,
   "id": "d85b0f15",
   "metadata": {},
   "outputs": [],
   "source": [
    "train_df, test_df = train_test_split(df, test_size=0.3, shuffle=False)"
   ]
  },
  {
   "cell_type": "code",
   "execution_count": 4,
   "id": "2e929f43",
   "metadata": {},
   "outputs": [],
   "source": [
    "X_train = train_df.drop('WIND', axis='columns')\n",
    "y_train = train_df['WIND']\n",
    "X_test = test_df.drop('WIND', axis='columns')\n",
    "y_test = test_df['WIND']"
   ]
  },
  {
   "cell_type": "code",
   "execution_count": 5,
   "id": "51bffcc9",
   "metadata": {},
   "outputs": [],
   "source": [
    "regr = LinearRegression()"
   ]
  },
  {
   "cell_type": "code",
   "execution_count": 6,
   "id": "3501b58e",
   "metadata": {},
   "outputs": [],
   "source": [
    "regr.fit(X_train, y_train)\n",
    "y_test_pred = regr.predict(X_test)"
   ]
  },
  {
   "cell_type": "code",
   "execution_count": 7,
   "id": "a3bea60e",
   "metadata": {},
   "outputs": [
    {
     "data": {
      "text/plain": [
       "3.6"
      ]
     },
     "execution_count": 7,
     "metadata": {},
     "output_type": "execute_result"
    }
   ],
   "source": [
    "round(mean_absolute_error(y_test, y_test_pred), 2)"
   ]
  },
  {
   "cell_type": "code",
   "execution_count": 8,
   "id": "a54afb80",
   "metadata": {
    "scrolled": false
   },
   "outputs": [
    {
     "data": {
      "text/plain": [
       "3.74"
      ]
     },
     "execution_count": 8,
     "metadata": {},
     "output_type": "execute_result"
    }
   ],
   "source": [
    "k = 10\n",
    "kfold = KFold(k, shuffle=False)\n",
    "result = next(kfold.split(df), None)\n",
    "sum = 0\n",
    "for train_index, test_index in kfold.split(df):\n",
    "    cross_train_data = df.iloc[train_index]\n",
    "    cross_test_data = df.iloc[test_index]\n",
    "    \n",
    "    cross_X_train = cross_train_data.drop('WIND', axis=\"columns\")\n",
    "    cross_y_train = cross_train_data['WIND']\n",
    "    \n",
    "    cross_X_test = cross_test_data.drop('WIND', axis=\"columns\")\n",
    "    cross_y_test = cross_test_data['WIND']\n",
    "    \n",
    "    regr.fit(cross_X_train, cross_y_train)\n",
    "    \n",
    "    cross_y_test_pred = regr.predict(cross_X_test)\n",
    "    \n",
    "    sum += mean_absolute_error(cross_y_test, cross_y_test_pred)\n",
    "\n",
    "average_error = sum / k\n",
    "round(average_error,2)"
   ]
  }
 ],
 "metadata": {
  "kernelspec": {
   "display_name": "Python 3 (ipykernel)",
   "language": "python",
   "name": "python3"
  },
  "language_info": {
   "codemirror_mode": {
    "name": "ipython",
    "version": 3
   },
   "file_extension": ".py",
   "mimetype": "text/x-python",
   "name": "python",
   "nbconvert_exporter": "python",
   "pygments_lexer": "ipython3",
   "version": "3.9.12"
  }
 },
 "nbformat": 4,
 "nbformat_minor": 5
}
